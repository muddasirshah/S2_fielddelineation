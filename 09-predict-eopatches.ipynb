{
 "cells": [
  {
   "cell_type": "markdown",
   "metadata": {},
   "source": [
    "# Run model on training/validation/test eopatches\n",
    "\n",
    "```\n",
    "#\n",
    "# Copyright (c) Sinergise, 2019 -- 2021.\n",
    "#\n",
    "# This file belongs to subproject \"field-delineation\" of project NIVA (www.niva4cap.eu).\n",
    "# All rights reserved.\n",
    "#\n",
    "# This source code is licensed under the MIT license found in the LICENSE\n",
    "# file in the root directory of this source tree.\n",
    "#\n",
    "```\n",
    "\n",
    "This notebook runs a trained model on the eopatches."
   ]
  },
  {
   "cell_type": "code",
   "execution_count": 1,
   "metadata": {},
   "outputs": [],
   "source": [
    "%load_ext autoreload\n",
    "%autoreload 2"
   ]
  },
  {
   "cell_type": "code",
   "execution_count": 2,
   "metadata": {},
   "outputs": [],
   "source": [
    "from pathlib import Path\n",
    "\n",
    "import pandas as pd\n",
    "import geopandas as gpd\n",
    "from tqdm.notebook import tqdm\n",
    "\n",
    "from eolearn.core import FeatureType\n",
    "\n",
    "from fd.utils import prepare_filesystem\n",
    "from fd.prediction import PredictionConfig, run_prediction_on_eopatch\n",
    "from fd.prediction import load_model, load_metadata"
   ]
  },
  {
   "cell_type": "markdown",
   "metadata": {},
   "source": [
    "## Workflow configuration set-up"
   ]
  },
  {
   "cell_type": "code",
   "execution_count": 3,
   "metadata": {},
   "outputs": [],
   "source": [
    "INPUT_DATA_DIR = Path('../../input-data/')"
   ]
  },
  {
   "cell_type": "code",
   "execution_count": 4,
   "metadata": {},
   "outputs": [],
   "source": [
    "model_version = 'folds_avg_10e'\n",
    "\n",
    "prediction_config = PredictionConfig(\n",
    "    bucket_name='bucket-name',\n",
    "    aws_access_key_id='',\n",
    "    aws_secret_access_key='',\n",
    "    aws_region='eu-central-1',\n",
    "    eopatches_folder='data/Castilla/2020-04/eopatches',\n",
    "    feature_extent=(FeatureType.DATA, f'EXTENT_PREDICTED_{model_version}'),\n",
    "    feature_boundary=(FeatureType.DATA, f'BOUNDARY_PREDICTED_{model_version}'),\n",
    "    feature_distance=(FeatureType.DATA, f'DISTANCE_PREDICTED_{model_version}'),\n",
    "    model_path='models/Castilla/2020-04',\n",
    "    model_name='resunet-a_avg_2021-01-04-17-13-50',\n",
    "    model_version=model_version,\n",
    "    temp_model_path='/home/ubuntu/niva-cyl-models/',\n",
    "    normalise='to_medianstd',\n",
    "    height=1122,\n",
    "    width=1122,\n",
    "    n_channels=4,\n",
    "    n_classes=2,\n",
    "    metadata_path='metadata/Castilla/2020-04/patchlet-info.csv',\n",
    "    batch_size=16)"
   ]
  },
  {
   "cell_type": "code",
   "execution_count": 5,
   "metadata": {},
   "outputs": [],
   "source": [
    "filesystem = prepare_filesystem(prediction_config) "
   ]
  },
  {
   "cell_type": "markdown",
   "metadata": {},
   "source": [
    "### Check the meta-data used for normalisation"
   ]
  },
  {
   "cell_type": "markdown",
   "metadata": {},
   "source": [
    "A file with the normalisation factors is used by the workflow to determine how to normalise the input images based on their acquisition datetime."
   ]
  },
  {
   "cell_type": "code",
   "execution_count": 6,
   "metadata": {},
   "outputs": [],
   "source": [
    "normalisation_factors = load_metadata(filesystem, prediction_config)"
   ]
  },
  {
   "cell_type": "code",
   "execution_count": 7,
   "metadata": {},
   "outputs": [
    {
     "data": {
      "text/html": [
       "<div>\n",
       "<style scoped>\n",
       "    .dataframe tbody tr th:only-of-type {\n",
       "        vertical-align: middle;\n",
       "    }\n",
       "\n",
       "    .dataframe tbody tr th {\n",
       "        vertical-align: top;\n",
       "    }\n",
       "\n",
       "    .dataframe thead th {\n",
       "        text-align: right;\n",
       "    }\n",
       "</style>\n",
       "<table border=\"1\" class=\"dataframe\">\n",
       "  <thead>\n",
       "    <tr style=\"text-align: right;\">\n",
       "      <th></th>\n",
       "      <th>chunk</th>\n",
       "      <th>eopatch</th>\n",
       "      <th>patchlet</th>\n",
       "      <th>chunk_pos</th>\n",
       "      <th>timestamp</th>\n",
       "      <th>mean_b0</th>\n",
       "      <th>mean_b1</th>\n",
       "      <th>mean_b2</th>\n",
       "      <th>mean_b3</th>\n",
       "      <th>std_b0</th>\n",
       "      <th>...</th>\n",
       "      <th>norm_meanstd_mean_b3</th>\n",
       "      <th>norm_meanstd_median_b0</th>\n",
       "      <th>norm_meanstd_median_b1</th>\n",
       "      <th>norm_meanstd_median_b2</th>\n",
       "      <th>norm_meanstd_median_b3</th>\n",
       "      <th>norm_meanstd_std_b0</th>\n",
       "      <th>norm_meanstd_std_b1</th>\n",
       "      <th>norm_meanstd_std_b2</th>\n",
       "      <th>norm_meanstd_std_b3</th>\n",
       "      <th>fold</th>\n",
       "    </tr>\n",
       "    <tr>\n",
       "      <th>timestamp</th>\n",
       "      <th></th>\n",
       "      <th></th>\n",
       "      <th></th>\n",
       "      <th></th>\n",
       "      <th></th>\n",
       "      <th></th>\n",
       "      <th></th>\n",
       "      <th></th>\n",
       "      <th></th>\n",
       "      <th></th>\n",
       "      <th></th>\n",
       "      <th></th>\n",
       "      <th></th>\n",
       "      <th></th>\n",
       "      <th></th>\n",
       "      <th></th>\n",
       "      <th></th>\n",
       "      <th></th>\n",
       "      <th></th>\n",
       "      <th></th>\n",
       "      <th></th>\n",
       "    </tr>\n",
       "  </thead>\n",
       "  <tbody>\n",
       "    <tr>\n",
       "      <th>2020-03</th>\n",
       "      <td>patchlets_field_delineation_99.npz</td>\n",
       "      <td>30TWN_2_7</td>\n",
       "      <td>data/Castilla/2020-04/patchlets/30TWN_2_7_1</td>\n",
       "      <td>49</td>\n",
       "      <td>2020-03-29</td>\n",
       "      <td>8480.957047</td>\n",
       "      <td>8022.577744</td>\n",
       "      <td>8426.146729</td>\n",
       "      <td>7814.784149</td>\n",
       "      <td>2509.563721</td>\n",
       "      <td>...</td>\n",
       "      <td>2746.590043</td>\n",
       "      <td>1017.891939</td>\n",
       "      <td>995.769063</td>\n",
       "      <td>933.170300</td>\n",
       "      <td>2726.109618</td>\n",
       "      <td>175.795333</td>\n",
       "      <td>232.388964</td>\n",
       "      <td>382.406135</td>\n",
       "      <td>649.973699</td>\n",
       "      <td>5</td>\n",
       "    </tr>\n",
       "    <tr>\n",
       "      <th>2020-04</th>\n",
       "      <td>patchlets_field_delineation_99.npz</td>\n",
       "      <td>30TWN_2_7</td>\n",
       "      <td>data/Castilla/2020-04/patchlets/30TWN_2_7_1</td>\n",
       "      <td>49</td>\n",
       "      <td>2020-04-28</td>\n",
       "      <td>5006.373322</td>\n",
       "      <td>4819.498505</td>\n",
       "      <td>5079.535522</td>\n",
       "      <td>5397.941116</td>\n",
       "      <td>2712.429383</td>\n",
       "      <td>...</td>\n",
       "      <td>2625.291505</td>\n",
       "      <td>978.491214</td>\n",
       "      <td>962.874290</td>\n",
       "      <td>917.062855</td>\n",
       "      <td>2573.705866</td>\n",
       "      <td>180.552451</td>\n",
       "      <td>231.539699</td>\n",
       "      <td>391.280970</td>\n",
       "      <td>630.743793</td>\n",
       "      <td>5</td>\n",
       "    </tr>\n",
       "    <tr>\n",
       "      <th>2020-05</th>\n",
       "      <td>patchlets_field_delineation_99.npz</td>\n",
       "      <td>30TWN_2_7</td>\n",
       "      <td>data/Castilla/2020-04/patchlets/30TWN_2_7_1</td>\n",
       "      <td>49</td>\n",
       "      <td>2020-05-11</td>\n",
       "      <td>1560.881699</td>\n",
       "      <td>1743.572723</td>\n",
       "      <td>2137.179550</td>\n",
       "      <td>4692.755554</td>\n",
       "      <td>521.665082</td>\n",
       "      <td>...</td>\n",
       "      <td>3063.496882</td>\n",
       "      <td>1004.421605</td>\n",
       "      <td>1016.390513</td>\n",
       "      <td>867.046771</td>\n",
       "      <td>3020.553016</td>\n",
       "      <td>174.398337</td>\n",
       "      <td>232.913813</td>\n",
       "      <td>407.725960</td>\n",
       "      <td>600.311697</td>\n",
       "      <td>5</td>\n",
       "    </tr>\n",
       "  </tbody>\n",
       "</table>\n",
       "<p>3 rows × 39 columns</p>\n",
       "</div>"
      ],
      "text/plain": [
       "                                        chunk    eopatch  \\\n",
       "timestamp                                                  \n",
       "2020-03    patchlets_field_delineation_99.npz  30TWN_2_7   \n",
       "2020-04    patchlets_field_delineation_99.npz  30TWN_2_7   \n",
       "2020-05    patchlets_field_delineation_99.npz  30TWN_2_7   \n",
       "\n",
       "                                              patchlet  chunk_pos   timestamp  \\\n",
       "timestamp                                                                       \n",
       "2020-03    data/Castilla/2020-04/patchlets/30TWN_2_7_1         49  2020-03-29   \n",
       "2020-04    data/Castilla/2020-04/patchlets/30TWN_2_7_1         49  2020-04-28   \n",
       "2020-05    data/Castilla/2020-04/patchlets/30TWN_2_7_1         49  2020-05-11   \n",
       "\n",
       "               mean_b0      mean_b1      mean_b2      mean_b3       std_b0  \\\n",
       "timestamp                                                                    \n",
       "2020-03    8480.957047  8022.577744  8426.146729  7814.784149  2509.563721   \n",
       "2020-04    5006.373322  4819.498505  5079.535522  5397.941116  2712.429383   \n",
       "2020-05    1560.881699  1743.572723  2137.179550  4692.755554   521.665082   \n",
       "\n",
       "           ...  norm_meanstd_mean_b3  norm_meanstd_median_b0  \\\n",
       "timestamp  ...                                                 \n",
       "2020-03    ...           2746.590043             1017.891939   \n",
       "2020-04    ...           2625.291505              978.491214   \n",
       "2020-05    ...           3063.496882             1004.421605   \n",
       "\n",
       "           norm_meanstd_median_b1  norm_meanstd_median_b2  \\\n",
       "timestamp                                                   \n",
       "2020-03                995.769063              933.170300   \n",
       "2020-04                962.874290              917.062855   \n",
       "2020-05               1016.390513              867.046771   \n",
       "\n",
       "           norm_meanstd_median_b3  norm_meanstd_std_b0  norm_meanstd_std_b1  \\\n",
       "timestamp                                                                     \n",
       "2020-03               2726.109618           175.795333           232.388964   \n",
       "2020-04               2573.705866           180.552451           231.539699   \n",
       "2020-05               3020.553016           174.398337           232.913813   \n",
       "\n",
       "           norm_meanstd_std_b2  norm_meanstd_std_b3  fold  \n",
       "timestamp                                                  \n",
       "2020-03             382.406135           649.973699     5  \n",
       "2020-04             391.280970           630.743793     5  \n",
       "2020-05             407.725960           600.311697     5  \n",
       "\n",
       "[3 rows x 39 columns]"
      ]
     },
     "execution_count": 7,
     "metadata": {},
     "output_type": "execute_result"
    }
   ],
   "source": [
    "normalisation_factors"
   ]
  },
  {
   "cell_type": "markdown",
   "metadata": {},
   "source": [
    "List of eopatches from definition file"
   ]
  },
  {
   "cell_type": "code",
   "execution_count": 8,
   "metadata": {},
   "outputs": [
    {
     "data": {
      "text/html": [
       "<div>\n",
       "<style scoped>\n",
       "    .dataframe tbody tr th:only-of-type {\n",
       "        vertical-align: middle;\n",
       "    }\n",
       "\n",
       "    .dataframe tbody tr th {\n",
       "        vertical-align: top;\n",
       "    }\n",
       "\n",
       "    .dataframe thead th {\n",
       "        text-align: right;\n",
       "    }\n",
       "</style>\n",
       "<table border=\"1\" class=\"dataframe\">\n",
       "  <thead>\n",
       "    <tr style=\"text-align: right;\">\n",
       "      <th></th>\n",
       "      <th>id</th>\n",
       "      <th>name</th>\n",
       "      <th>geometry</th>\n",
       "    </tr>\n",
       "  </thead>\n",
       "  <tbody>\n",
       "    <tr>\n",
       "      <th>0</th>\n",
       "      <td>2302137</td>\n",
       "      <td>30TVM_2_5</td>\n",
       "      <td>POLYGON ((-3.96458 41.90790, -3.96594 41.99795...</td>\n",
       "    </tr>\n",
       "    <tr>\n",
       "      <th>1</th>\n",
       "      <td>2301391</td>\n",
       "      <td>30TUN_7_8</td>\n",
       "      <td>POLYGON ((-4.58294 42.53146, -4.58522 42.62148...</td>\n",
       "    </tr>\n",
       "    <tr>\n",
       "      <th>2</th>\n",
       "      <td>2301392</td>\n",
       "      <td>30TUN_7_9</td>\n",
       "      <td>POLYGON ((-4.58067 42.44143, -4.58294 42.53146...</td>\n",
       "    </tr>\n",
       "    <tr>\n",
       "      <th>3</th>\n",
       "      <td>2301398</td>\n",
       "      <td>30TUN_8_5</td>\n",
       "      <td>POLYGON ((-4.46755 42.80315, -4.46969 42.89318...</td>\n",
       "    </tr>\n",
       "    <tr>\n",
       "      <th>4</th>\n",
       "      <td>2301399</td>\n",
       "      <td>30TUN_8_6</td>\n",
       "      <td>POLYGON ((-4.46543 42.71313, -4.46755 42.80315...</td>\n",
       "    </tr>\n",
       "  </tbody>\n",
       "</table>\n",
       "</div>"
      ],
      "text/plain": [
       "        id       name                                           geometry\n",
       "0  2302137  30TVM_2_5  POLYGON ((-3.96458 41.90790, -3.96594 41.99795...\n",
       "1  2301391  30TUN_7_8  POLYGON ((-4.58294 42.53146, -4.58522 42.62148...\n",
       "2  2301392  30TUN_7_9  POLYGON ((-4.58067 42.44143, -4.58294 42.53146...\n",
       "3  2301398  30TUN_8_5  POLYGON ((-4.46755 42.80315, -4.46969 42.89318...\n",
       "4  2301399  30TUN_8_6  POLYGON ((-4.46543 42.71313, -4.46755 42.80315..."
      ]
     },
     "execution_count": 8,
     "metadata": {},
     "output_type": "execute_result"
    }
   ],
   "source": [
    "grid_definition = gpd.read_file(INPUT_DATA_DIR/'cyl-grid-definition.gpkg')\n",
    "grid_definition.head()"
   ]
  },
  {
   "cell_type": "code",
   "execution_count": 9,
   "metadata": {},
   "outputs": [],
   "source": [
    "eopatches_list = grid_definition.name.values"
   ]
  },
  {
   "cell_type": "markdown",
   "metadata": {},
   "source": [
    "### Load model"
   ]
  },
  {
   "cell_type": "markdown",
   "metadata": {},
   "source": [
    "Test loading the model, by copying locally from S3 if hte local directory doesn't exist. This is done automatically in the workflow"
   ]
  },
  {
   "cell_type": "code",
   "execution_count": 10,
   "metadata": {
    "scrolled": false
   },
   "outputs": [
    {
     "name": "stderr",
     "output_type": "stream",
     "text": [
      "/home/ubuntu/anaconda3/envs/tensorflow2_p36/lib/python3.6/site-packages/tensorflow/python/framework/tensor_util.py:523: DeprecationWarning: tostring() is deprecated. Use tobytes() instead.\n",
      "  tensor_proto.tensor_content = nparray.tostring()\n"
     ]
    }
   ],
   "source": [
    "model = load_model(filesystem=filesystem, config=prediction_config)"
   ]
  },
  {
   "cell_type": "markdown",
   "metadata": {},
   "source": [
    "## Run prediction sequentially on all patches\n",
    "\n",
    "This workflow could be run on CPU on multiple processes as well."
   ]
  },
  {
   "cell_type": "code",
   "execution_count": 11,
   "metadata": {},
   "outputs": [],
   "source": [
    "def process_eopatches(fn, eopatches, **kwargs): \n",
    "    results = [] \n",
    "    for eopatches_path in tqdm(eopatches): \n",
    "        results.append(fn(eopatches_path, **kwargs))\n",
    "    return results\n",
    "\n",
    "def multiprocess_eopatches(fn, eopatches, max_workers, **kwargs):\n",
    "    with ProcessPoolExecutor(max_workers=max_workers) as executor:\n",
    "        partial_fn = partial(fn, **kwargs)\n",
    "        return list(tqdm(executor.map(partial_fn, eopatches), total=len(eopatches)))\n",
    "        \n",
    "def prefect_processing(): \n",
    "    # The idea why processing is not inside the module is to decouple it so any kind of processing can be used, \n",
    "    # Either prefect, or single processing or multiprocessing or whatever\n",
    "    pass "
   ]
  },
  {
   "cell_type": "markdown",
   "metadata": {},
   "source": [
    "If model or normalisation factors are not passed they are loaded from bucket/disk for each eopatch, allowing to run the workflow on separate instances/processes"
   ]
  },
  {
   "cell_type": "code",
   "execution_count": null,
   "metadata": {},
   "outputs": [],
   "source": [
    "status = process_eopatches(run_prediction_on_eopatch, \n",
    "                           eopatches_list, \n",
    "                           config=prediction_config,\n",
    "                           model=model,\n",
    "                           normalisation_factors=normalisation_factors)"
   ]
  },
  {
   "cell_type": "code",
   "execution_count": 13,
   "metadata": {},
   "outputs": [],
   "source": [
    "status_df = pd.DataFrame(status)"
   ]
  },
  {
   "cell_type": "code",
   "execution_count": 14,
   "metadata": {},
   "outputs": [
    {
     "data": {
      "text/html": [
       "<div>\n",
       "<style scoped>\n",
       "    .dataframe tbody tr th:only-of-type {\n",
       "        vertical-align: middle;\n",
       "    }\n",
       "\n",
       "    .dataframe tbody tr th {\n",
       "        vertical-align: top;\n",
       "    }\n",
       "\n",
       "    .dataframe thead th {\n",
       "        text-align: right;\n",
       "    }\n",
       "</style>\n",
       "<table border=\"1\" class=\"dataframe\">\n",
       "  <thead>\n",
       "    <tr style=\"text-align: right;\">\n",
       "      <th></th>\n",
       "      <th>name</th>\n",
       "      <th>status</th>\n",
       "    </tr>\n",
       "  </thead>\n",
       "  <tbody>\n",
       "    <tr>\n",
       "      <th>0</th>\n",
       "      <td>30TVM_2_5</td>\n",
       "      <td>Success</td>\n",
       "    </tr>\n",
       "    <tr>\n",
       "      <th>1</th>\n",
       "      <td>30TUN_7_8</td>\n",
       "      <td>Success</td>\n",
       "    </tr>\n",
       "    <tr>\n",
       "      <th>2</th>\n",
       "      <td>30TUN_7_9</td>\n",
       "      <td>Success</td>\n",
       "    </tr>\n",
       "    <tr>\n",
       "      <th>3</th>\n",
       "      <td>30TUN_8_5</td>\n",
       "      <td>Success</td>\n",
       "    </tr>\n",
       "    <tr>\n",
       "      <th>4</th>\n",
       "      <td>30TUN_8_6</td>\n",
       "      <td>Success</td>\n",
       "    </tr>\n",
       "  </tbody>\n",
       "</table>\n",
       "</div>"
      ],
      "text/plain": [
       "        name   status\n",
       "0  30TVM_2_5  Success\n",
       "1  30TUN_7_8  Success\n",
       "2  30TUN_7_9  Success\n",
       "3  30TUN_8_5  Success\n",
       "4  30TUN_8_6  Success"
      ]
     },
     "execution_count": 14,
     "metadata": {},
     "output_type": "execute_result"
    }
   ],
   "source": [
    "status_df.head()"
   ]
  },
  {
   "cell_type": "code",
   "execution_count": 15,
   "metadata": {},
   "outputs": [
    {
     "data": {
      "text/plain": [
       "(1083, 1076)"
      ]
     },
     "execution_count": 15,
     "metadata": {},
     "output_type": "execute_result"
    }
   ],
   "source": [
    "len(status_df), len(status_df[status_df.status=='Success'])"
   ]
  },
  {
   "cell_type": "code",
   "execution_count": 16,
   "metadata": {},
   "outputs": [
    {
     "data": {
      "text/html": [
       "<div>\n",
       "<style scoped>\n",
       "    .dataframe tbody tr th:only-of-type {\n",
       "        vertical-align: middle;\n",
       "    }\n",
       "\n",
       "    .dataframe tbody tr th {\n",
       "        vertical-align: top;\n",
       "    }\n",
       "\n",
       "    .dataframe thead th {\n",
       "        text-align: right;\n",
       "    }\n",
       "</style>\n",
       "<table border=\"1\" class=\"dataframe\">\n",
       "  <thead>\n",
       "    <tr style=\"text-align: right;\">\n",
       "      <th></th>\n",
       "      <th>name</th>\n",
       "      <th>status</th>\n",
       "    </tr>\n",
       "  </thead>\n",
       "  <tbody>\n",
       "    <tr>\n",
       "      <th>1047</th>\n",
       "      <td>29TPG_7_0</td>\n",
       "      <td>There are no features of type FeatureType.DATA...</td>\n",
       "    </tr>\n",
       "    <tr>\n",
       "      <th>1063</th>\n",
       "      <td>30TWM_7_3</td>\n",
       "      <td>There are no features of type FeatureType.DATA...</td>\n",
       "    </tr>\n",
       "    <tr>\n",
       "      <th>1067</th>\n",
       "      <td>30TWN_0_4</td>\n",
       "      <td>There are no features of type FeatureType.DATA...</td>\n",
       "    </tr>\n",
       "    <tr>\n",
       "      <th>1073</th>\n",
       "      <td>30TXM_0_7</td>\n",
       "      <td>There are no features of type FeatureType.DATA...</td>\n",
       "    </tr>\n",
       "    <tr>\n",
       "      <th>1076</th>\n",
       "      <td>30TWM_3_3</td>\n",
       "      <td>There are no features of type FeatureType.DATA...</td>\n",
       "    </tr>\n",
       "    <tr>\n",
       "      <th>1077</th>\n",
       "      <td>29TQE_1_3</td>\n",
       "      <td>There are no features of type FeatureType.DATA...</td>\n",
       "    </tr>\n",
       "    <tr>\n",
       "      <th>1078</th>\n",
       "      <td>29TPG_6_2</td>\n",
       "      <td>There are no features of type FeatureType.DATA...</td>\n",
       "    </tr>\n",
       "  </tbody>\n",
       "</table>\n",
       "</div>"
      ],
      "text/plain": [
       "           name                                             status\n",
       "1047  29TPG_7_0  There are no features of type FeatureType.DATA...\n",
       "1063  30TWM_7_3  There are no features of type FeatureType.DATA...\n",
       "1067  30TWN_0_4  There are no features of type FeatureType.DATA...\n",
       "1073  30TXM_0_7  There are no features of type FeatureType.DATA...\n",
       "1076  30TWM_3_3  There are no features of type FeatureType.DATA...\n",
       "1077  29TQE_1_3  There are no features of type FeatureType.DATA...\n",
       "1078  29TPG_6_2  There are no features of type FeatureType.DATA..."
      ]
     },
     "execution_count": 16,
     "metadata": {},
     "output_type": "execute_result"
    }
   ],
   "source": [
    "status_df[status_df.status!='Success']"
   ]
  },
  {
   "cell_type": "markdown",
   "metadata": {},
   "source": [
    "### Check if files have been written"
   ]
  },
  {
   "cell_type": "code",
   "execution_count": 17,
   "metadata": {},
   "outputs": [],
   "source": [
    "pred_files = [f'BOUNDARY_PREDICTED_{model_version}.npy', \n",
    "              f'DISTANCE_PREDICTED_{model_version}.npy', \n",
    "              f'EXTENT_PREDICTED_{model_version}.npy']"
   ]
  },
  {
   "cell_type": "code",
   "execution_count": 18,
   "metadata": {},
   "outputs": [
    {
     "data": {
      "application/vnd.jupyter.widget-view+json": {
       "model_id": "cfa44de92af54c36af2cd57622f8abf2",
       "version_major": 2,
       "version_minor": 0
      },
      "text/plain": [
       "HBox(children=(FloatProgress(value=0.0, max=1083.0), HTML(value='')))"
      ]
     },
     "metadata": {},
     "output_type": "display_data"
    },
    {
     "name": "stdout",
     "output_type": "stream",
     "text": [
      "29TPG_7_0\n",
      "30TWM_7_3\n",
      "30TWN_0_4\n",
      "30TXM_0_7\n",
      "30TWM_3_3\n",
      "29TQE_1_3\n",
      "29TPG_6_2\n",
      "\n"
     ]
    }
   ],
   "source": [
    "for eopatch in tqdm(eopatches_list):\n",
    "    try:\n",
    "        files = filesystem.listdir(f'{prediction_config.eopatches_folder}/{eopatch}/data/')\n",
    "        if not all([pf in files for pf in pred_files]):\n",
    "            print(eopatch)\n",
    "    except Exception as exc:\n",
    "        print(f'{eopatch}: {exc}')\n",
    "    "
   ]
  }
 ],
 "metadata": {
  "kernelspec": {
   "display_name": "Python 3",
   "language": "python",
   "name": "python3"
  },
  "language_info": {
   "codemirror_mode": {
    "name": "ipython",
    "version": 3
   },
   "file_extension": ".py",
   "mimetype": "text/x-python",
   "name": "python",
   "nbconvert_exporter": "python",
   "pygments_lexer": "ipython3",
   "version": "3.6.9"
  }
 },
 "nbformat": 4,
 "nbformat_minor": 2
}