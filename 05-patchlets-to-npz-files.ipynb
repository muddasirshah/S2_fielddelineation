{
 "cells": [
  {
   "cell_type": "markdown",
   "metadata": {},
   "source": [
    "# Create .npz files from patchlets\n",
    "\n",
    "```\n",
    "#\n",
    "# Copyright (c) Sinergise, 2019 -- 2021.\n",
    "#\n",
    "# This file belongs to subproject \"field-delineation\" of project NIVA (www.niva4cap.eu).\n",
    "# All rights reserved.\n",
    "#\n",
    "# This source code is licensed under the MIT license found in the LICENSE\n",
    "# file in the root directory of this source tree.\n",
    "#\n",
    "```\n",
    "\n",
    "This notebook creates a series of `.npz` files which join the data and labels sampled in patchlets from the previous iteration. A dataframe is created to keep track of the origin of the patchlets, namely which eopatch they come from and at which position they were sampled. This dataframe is later used forthe cross-validation splits. "
   ]
  },
  {
   "cell_type": "code",
   "execution_count": 1,
   "metadata": {},
   "outputs": [],
   "source": [
    "%load_ext autoreload\n",
    "%autoreload 2"
   ]
  },
  {
   "cell_type": "code",
   "execution_count": 17,
   "metadata": {},
   "outputs": [],
   "source": [
    "import os\n",
    "\n",
    "import numpy as np\n",
    "import pandas as pd \n",
    "from tqdm.auto import tqdm\n",
    "\n",
    "from functools import partial \n",
    "from concurrent.futures import ProcessPoolExecutor\n",
    "\n",
    "from fd.utils import prepare_filesystem, multiprocess\n",
    "from fd.create_npz_files import (\n",
    "    CreateNpzConfig, \n",
    "    extract_npys, \n",
    "    concatenate_npys, \n",
    "    save_into_chunks\n",
    ")"
   ]
  },
  {
   "cell_type": "markdown",
   "metadata": {},
   "source": [
    "### Define filesystem and eopatches location "
   ]
  },
  {
   "cell_type": "code",
   "execution_count": 3,
   "metadata": {},
   "outputs": [],
   "source": [
    "config = CreateNpzConfig(\n",
    "    bucket_name='bucket-name',\n",
    "    aws_access_key_id='',\n",
    "    aws_secret_access_key='',\n",
    "    aws_region='eu-central-1', \n",
    "    patchlets_folder='data/Castilla/2020-04/patchlets',\n",
    "    output_folder='data/Castilla/2020-04/patchlets_npz', \n",
    "    output_dataframe='metadata/Castilla/2020-04/patchlet-info.csv',\n",
    "    chunk_size=50)"
   ]
  },
  {
   "cell_type": "code",
   "execution_count": 4,
   "metadata": {},
   "outputs": [],
   "source": [
    "filesystem = prepare_filesystem(config)"
   ]
  },
  {
   "cell_type": "code",
   "execution_count": 5,
   "metadata": {},
   "outputs": [],
   "source": [
    "patchlets = [os.path.join(config.patchlets_folder, eop_name)\n",
    "             for eop_name in filesystem.listdir(config.patchlets_folder)]"
   ]
  },
  {
   "cell_type": "code",
   "execution_count": 6,
   "metadata": {},
   "outputs": [
    {
     "data": {
      "text/plain": [
       "7740"
      ]
     },
     "execution_count": 6,
     "metadata": {},
     "output_type": "execute_result"
    }
   ],
   "source": [
    "len(patchlets)"
   ]
  },
  {
   "cell_type": "markdown",
   "metadata": {},
   "source": [
    "Extract numpy arrays of: \n",
    "* X\n",
    "* y_boundary\n",
    "* y_extent \n",
    "* y_distance\n",
    "* timestamps\n",
    "* eop_names\n",
    "\n",
    "from eopatches."
   ]
  },
  {
   "cell_type": "code",
   "execution_count": 7,
   "metadata": {},
   "outputs": [],
   "source": [
    "partial_fn = partial(extract_npys, cfg=config)"
   ]
  },
  {
   "cell_type": "code",
   "execution_count": 8,
   "metadata": {},
   "outputs": [
    {
     "data": {
      "application/vnd.jupyter.widget-view+json": {
       "model_id": "cd28cf1089664e5e9b7b62e01b5b9626",
       "version_major": 2,
       "version_minor": 0
      },
      "text/plain": [
       "HBox(children=(FloatProgress(value=0.0, max=7740.0), HTML(value='')))"
      ]
     },
     "metadata": {},
     "output_type": "display_data"
    },
    {
     "name": "stdout",
     "output_type": "stream",
     "text": [
      "\n"
     ]
    }
   ],
   "source": [
    "npys = multiprocess(partial_fn, patchlets, max_workers=24)"
   ]
  },
  {
   "cell_type": "markdown",
   "metadata": {},
   "source": [
    "Concatenate numpy arrays per eopatch into one array. "
   ]
  },
  {
   "cell_type": "code",
   "execution_count": 9,
   "metadata": {},
   "outputs": [],
   "source": [
    "npys_dict = concatenate_npys(npys)"
   ]
  },
  {
   "cell_type": "code",
   "execution_count": 10,
   "metadata": {},
   "outputs": [
    {
     "data": {
      "text/plain": [
       "dict_keys(['X', 'y_boundary', 'y_extent', 'y_distance', 'timestamps', 'eop_names'])"
      ]
     },
     "execution_count": 10,
     "metadata": {},
     "output_type": "execute_result"
    }
   ],
   "source": [
    "npys_dict.keys()"
   ]
  },
  {
   "cell_type": "markdown",
   "metadata": {},
   "source": [
    "Split the the big arrays into smaller chunks of size chunk_size and save as npz files. "
   ]
  },
  {
   "cell_type": "code",
   "execution_count": 13,
   "metadata": {},
   "outputs": [],
   "source": [
    "save_into_chunks(config, npys_dict)"
   ]
  },
  {
   "cell_type": "markdown",
   "metadata": {},
   "source": [
    "#### Check that results make sense "
   ]
  },
  {
   "cell_type": "code",
   "execution_count": 14,
   "metadata": {},
   "outputs": [],
   "source": [
    "npzs = filesystem.listdir(config.output_folder)"
   ]
  },
  {
   "cell_type": "code",
   "execution_count": 15,
   "metadata": {},
   "outputs": [
    {
     "data": {
      "text/plain": [
       "375"
      ]
     },
     "execution_count": 15,
     "metadata": {},
     "output_type": "execute_result"
    }
   ],
   "source": [
    "len(npzs)"
   ]
  },
  {
   "cell_type": "code",
   "execution_count": 18,
   "metadata": {},
   "outputs": [],
   "source": [
    "test_npz = np.load(filesystem.open(os.path.join(config.output_folder, npzs[0]), 'rb'), \n",
    "                   allow_pickle=True)"
   ]
  },
  {
   "cell_type": "code",
   "execution_count": 19,
   "metadata": {},
   "outputs": [
    {
     "data": {
      "text/plain": [
       "((50, 256, 256, 4), (50, 256, 256, 1), (50,))"
      ]
     },
     "execution_count": 19,
     "metadata": {},
     "output_type": "execute_result"
    }
   ],
   "source": [
    "test_npz['X'].shape, test_npz['y_extent'].shape, test_npz['timestamps'].shape"
   ]
  },
  {
   "cell_type": "code",
   "execution_count": 20,
   "metadata": {},
   "outputs": [],
   "source": [
    "df = pd.read_csv(filesystem.open(config.output_dataframe))"
   ]
  },
  {
   "cell_type": "code",
   "execution_count": 21,
   "metadata": {},
   "outputs": [
    {
     "data": {
      "text/html": [
       "<div>\n",
       "<style scoped>\n",
       "    .dataframe tbody tr th:only-of-type {\n",
       "        vertical-align: middle;\n",
       "    }\n",
       "\n",
       "    .dataframe tbody tr th {\n",
       "        vertical-align: top;\n",
       "    }\n",
       "\n",
       "    .dataframe thead th {\n",
       "        text-align: right;\n",
       "    }\n",
       "</style>\n",
       "<table border=\"1\" class=\"dataframe\">\n",
       "  <thead>\n",
       "    <tr style=\"text-align: right;\">\n",
       "      <th></th>\n",
       "      <th>chunk</th>\n",
       "      <th>eopatch</th>\n",
       "      <th>patchlet</th>\n",
       "      <th>chunk_pos</th>\n",
       "      <th>timestamp</th>\n",
       "    </tr>\n",
       "  </thead>\n",
       "  <tbody>\n",
       "    <tr>\n",
       "      <th>0</th>\n",
       "      <td>patchlets_field_delineation_0.npz</td>\n",
       "      <td>29TPE_8_0</td>\n",
       "      <td>data/Castilla/2020-04/patchlets/29TPE_8_0_0</td>\n",
       "      <td>0</td>\n",
       "      <td>2020-03-25 00:00:00+00:00</td>\n",
       "    </tr>\n",
       "    <tr>\n",
       "      <th>1</th>\n",
       "      <td>patchlets_field_delineation_0.npz</td>\n",
       "      <td>29TPE_8_0</td>\n",
       "      <td>data/Castilla/2020-04/patchlets/29TPE_8_0_0</td>\n",
       "      <td>1</td>\n",
       "      <td>2020-03-27 00:00:00+00:00</td>\n",
       "    </tr>\n",
       "    <tr>\n",
       "      <th>2</th>\n",
       "      <td>patchlets_field_delineation_0.npz</td>\n",
       "      <td>29TPE_8_0</td>\n",
       "      <td>data/Castilla/2020-04/patchlets/29TPE_8_0_1</td>\n",
       "      <td>2</td>\n",
       "      <td>2020-03-25 00:00:00+00:00</td>\n",
       "    </tr>\n",
       "    <tr>\n",
       "      <th>3</th>\n",
       "      <td>patchlets_field_delineation_0.npz</td>\n",
       "      <td>29TPE_8_0</td>\n",
       "      <td>data/Castilla/2020-04/patchlets/29TPE_8_0_1</td>\n",
       "      <td>3</td>\n",
       "      <td>2020-03-27 00:00:00+00:00</td>\n",
       "    </tr>\n",
       "    <tr>\n",
       "      <th>4</th>\n",
       "      <td>patchlets_field_delineation_0.npz</td>\n",
       "      <td>29TPE_8_0</td>\n",
       "      <td>data/Castilla/2020-04/patchlets/29TPE_8_0_2</td>\n",
       "      <td>4</td>\n",
       "      <td>2020-03-25 00:00:00+00:00</td>\n",
       "    </tr>\n",
       "  </tbody>\n",
       "</table>\n",
       "</div>"
      ],
      "text/plain": [
       "                               chunk    eopatch  \\\n",
       "0  patchlets_field_delineation_0.npz  29TPE_8_0   \n",
       "1  patchlets_field_delineation_0.npz  29TPE_8_0   \n",
       "2  patchlets_field_delineation_0.npz  29TPE_8_0   \n",
       "3  patchlets_field_delineation_0.npz  29TPE_8_0   \n",
       "4  patchlets_field_delineation_0.npz  29TPE_8_0   \n",
       "\n",
       "                                      patchlet  chunk_pos  \\\n",
       "0  data/Castilla/2020-04/patchlets/29TPE_8_0_0          0   \n",
       "1  data/Castilla/2020-04/patchlets/29TPE_8_0_0          1   \n",
       "2  data/Castilla/2020-04/patchlets/29TPE_8_0_1          2   \n",
       "3  data/Castilla/2020-04/patchlets/29TPE_8_0_1          3   \n",
       "4  data/Castilla/2020-04/patchlets/29TPE_8_0_2          4   \n",
       "\n",
       "                   timestamp  \n",
       "0  2020-03-25 00:00:00+00:00  \n",
       "1  2020-03-27 00:00:00+00:00  \n",
       "2  2020-03-25 00:00:00+00:00  \n",
       "3  2020-03-27 00:00:00+00:00  \n",
       "4  2020-03-25 00:00:00+00:00  "
      ]
     },
     "execution_count": 21,
     "metadata": {},
     "output_type": "execute_result"
    }
   ],
   "source": [
    "df.head()"
   ]
  },
  {
   "cell_type": "code",
   "execution_count": 22,
   "metadata": {},
   "outputs": [
    {
     "data": {
      "text/plain": [
       "18701"
      ]
     },
     "execution_count": 22,
     "metadata": {},
     "output_type": "execute_result"
    }
   ],
   "source": [
    "len(df)"
   ]
  }
 ],
 "metadata": {
  "kernelspec": {
   "display_name": "Python 3",
   "language": "python",
   "name": "python3"
  },
  "language_info": {
   "codemirror_mode": {
    "name": "ipython",
    "version": 3
   },
   "file_extension": ".py",
   "mimetype": "text/x-python",
   "name": "python",
   "nbconvert_exporter": "python",
   "pygments_lexer": "ipython3",
   "version": "3.6.9"
  }
 },
 "nbformat": 4,
 "nbformat_minor": 2
}