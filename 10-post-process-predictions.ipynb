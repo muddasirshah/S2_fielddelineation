{
 "cells": [
  {
   "cell_type": "markdown",
   "metadata": {},
   "source": [
    "# Post-process predictions for vectorisation\n",
    "\n",
    "```\n",
    "#\n",
    "# Copyright (c) Sinergise, 2019 -- 2021.\n",
    "#\n",
    "# This file belongs to subproject \"field-delineation\" of project NIVA (www.niva4cap.eu).\n",
    "# All rights reserved.\n",
    "#\n",
    "# This source code is licensed under the MIT license found in the LICENSE\n",
    "# file in the root directory of this source tree.\n",
    "#\n",
    "```\n",
    "\n",
    "This notebook shows how to post-process the predicted extent and boundary pseudo-probabilities to generate a single raster map that will be used for vectorisation.\n",
    "\n",
    "The following steps are executed:\n",
    "\n",
    " * merge predictions over a time interval using percentile statistics\n",
    " * join the extent and boundary predictions derived from previous step\n",
    " * iteratively smooth and upscale the joined prediction for a visually smoother output\n",
    " * export the resulting map as .tif to be used for vectorisation"
   ]
  },
  {
   "cell_type": "code",
   "execution_count": 1,
   "metadata": {},
   "outputs": [],
   "source": [
    "%load_ext autoreload\n",
    "%autoreload 2"
   ]
  },
  {
   "cell_type": "code",
   "execution_count": 2,
   "metadata": {},
   "outputs": [],
   "source": [
    "import warnings\n",
    "warnings.simplefilter(action='ignore', category=UserWarning)"
   ]
  },
  {
   "cell_type": "code",
   "execution_count": 3,
   "metadata": {},
   "outputs": [],
   "source": [
    "from pathlib import Path\n",
    "\n",
    "import geopandas as gpd\n",
    "\n",
    "from eolearn.core import FeatureType, EOExecutor\n",
    "\n",
    "from fd.post_processing import (\n",
    "    get_post_processing_workflow, \n",
    "    get_exec_args, \n",
    "    PostProcessConfig)"
   ]
  },
  {
   "cell_type": "markdown",
   "metadata": {},
   "source": [
    "## Paths and config set-up"
   ]
  },
  {
   "cell_type": "code",
   "execution_count": 4,
   "metadata": {},
   "outputs": [],
   "source": [
    "INPUT_DATA_DIR = Path('../../input-data/')"
   ]
  },
  {
   "cell_type": "code",
   "execution_count": 5,
   "metadata": {},
   "outputs": [],
   "source": [
    "model_version = 'folds_avg_10e'\n",
    "\n",
    "post_process_config = PostProcessConfig(\n",
    "    bucket_name='bucket-name',\n",
    "    aws_access_key_id='',\n",
    "    aws_secret_access_key='',\n",
    "    aws_region='eu-central-1',\n",
    "    time_intervals=dict(APRIL=(12, 21)), # include last weeks of March and firsts of May\n",
    "    eopatches_folder='data/Castilla/2020-04/eopatches',\n",
    "    tiffs_folder='results/Castilla/2020-04/raster',\n",
    "    feature_extent=(FeatureType.DATA, f'EXTENT_PREDICTED_{model_version}'),\n",
    "    feature_boundary=(FeatureType.DATA, f'BOUNDARY_PREDICTED_{model_version}'),\n",
    "    model_version=model_version,\n",
    "    max_cloud_coverage=0.10 # increased from 0.05 since there aren't good frames available\n",
    ")"
   ]
  },
  {
   "cell_type": "markdown",
   "metadata": {},
   "source": [
    "#### List of patches"
   ]
  },
  {
   "cell_type": "code",
   "execution_count": 6,
   "metadata": {},
   "outputs": [
    {
     "data": {
      "text/html": [
       "<div>\n",
       "<style scoped>\n",
       "    .dataframe tbody tr th:only-of-type {\n",
       "        vertical-align: middle;\n",
       "    }\n",
       "\n",
       "    .dataframe tbody tr th {\n",
       "        vertical-align: top;\n",
       "    }\n",
       "\n",
       "    .dataframe thead th {\n",
       "        text-align: right;\n",
       "    }\n",
       "</style>\n",
       "<table border=\"1\" class=\"dataframe\">\n",
       "  <thead>\n",
       "    <tr style=\"text-align: right;\">\n",
       "      <th></th>\n",
       "      <th>id</th>\n",
       "      <th>name</th>\n",
       "      <th>geometry</th>\n",
       "    </tr>\n",
       "  </thead>\n",
       "  <tbody>\n",
       "    <tr>\n",
       "      <th>0</th>\n",
       "      <td>2302137</td>\n",
       "      <td>30TVM_2_5</td>\n",
       "      <td>POLYGON ((-3.96458 41.90790, -3.96594 41.99795...</td>\n",
       "    </tr>\n",
       "    <tr>\n",
       "      <th>1</th>\n",
       "      <td>2301391</td>\n",
       "      <td>30TUN_7_8</td>\n",
       "      <td>POLYGON ((-4.58294 42.53146, -4.58522 42.62148...</td>\n",
       "    </tr>\n",
       "    <tr>\n",
       "      <th>2</th>\n",
       "      <td>2301392</td>\n",
       "      <td>30TUN_7_9</td>\n",
       "      <td>POLYGON ((-4.58067 42.44143, -4.58294 42.53146...</td>\n",
       "    </tr>\n",
       "    <tr>\n",
       "      <th>3</th>\n",
       "      <td>2301398</td>\n",
       "      <td>30TUN_8_5</td>\n",
       "      <td>POLYGON ((-4.46755 42.80315, -4.46969 42.89318...</td>\n",
       "    </tr>\n",
       "    <tr>\n",
       "      <th>4</th>\n",
       "      <td>2301399</td>\n",
       "      <td>30TUN_8_6</td>\n",
       "      <td>POLYGON ((-4.46543 42.71313, -4.46755 42.80315...</td>\n",
       "    </tr>\n",
       "  </tbody>\n",
       "</table>\n",
       "</div>"
      ],
      "text/plain": [
       "        id       name                                           geometry\n",
       "0  2302137  30TVM_2_5  POLYGON ((-3.96458 41.90790, -3.96594 41.99795...\n",
       "1  2301391  30TUN_7_8  POLYGON ((-4.58294 42.53146, -4.58522 42.62148...\n",
       "2  2301392  30TUN_7_9  POLYGON ((-4.58067 42.44143, -4.58294 42.53146...\n",
       "3  2301398  30TUN_8_5  POLYGON ((-4.46755 42.80315, -4.46969 42.89318...\n",
       "4  2301399  30TUN_8_6  POLYGON ((-4.46543 42.71313, -4.46755 42.80315..."
      ]
     },
     "execution_count": 6,
     "metadata": {},
     "output_type": "execute_result"
    }
   ],
   "source": [
    "grid_definition = gpd.read_file(INPUT_DATA_DIR/'cyl-grid-definition.gpkg')\n",
    "grid_definition.head()"
   ]
  },
  {
   "cell_type": "code",
   "execution_count": 7,
   "metadata": {},
   "outputs": [],
   "source": [
    "eopatches_list = grid_definition.name.values"
   ]
  },
  {
   "cell_type": "code",
   "execution_count": 8,
   "metadata": {},
   "outputs": [
    {
     "data": {
      "text/plain": [
       "1083"
      ]
     },
     "execution_count": 8,
     "metadata": {},
     "output_type": "execute_result"
    }
   ],
   "source": [
    "len(eopatches_list)"
   ]
  },
  {
   "cell_type": "markdown",
   "metadata": {},
   "source": [
    "### Get workflow"
   ]
  },
  {
   "cell_type": "code",
   "execution_count": 9,
   "metadata": {},
   "outputs": [],
   "source": [
    "workflow = get_post_processing_workflow(post_process_config)"
   ]
  },
  {
   "cell_type": "code",
   "execution_count": 10,
   "metadata": {},
   "outputs": [
    {
     "data": {
      "application/vnd.jupyter.widget-view+json": {
       "model_id": "739817cf367b430cb947a655487c3ff8",
       "version_major": 2,
       "version_minor": 0
      },
      "text/plain": [
       "HBox(children=(FloatProgress(value=0.0, max=1083.0), HTML(value='')))"
      ]
     },
     "metadata": {},
     "output_type": "display_data"
    },
    {
     "name": "stdout",
     "output_type": "stream",
     "text": [
      "\n"
     ]
    }
   ],
   "source": [
    "exec_args = get_exec_args(workflow=workflow, \n",
    "                          eopatch_list=eopatches_list,\n",
    "                          config=post_process_config)"
   ]
  },
  {
   "cell_type": "code",
   "execution_count": 11,
   "metadata": {},
   "outputs": [
    {
     "data": {
      "text/plain": [
       "1083"
      ]
     },
     "execution_count": 11,
     "metadata": {},
     "output_type": "execute_result"
    }
   ],
   "source": [
    "len(exec_args)"
   ]
  },
  {
   "cell_type": "markdown",
   "metadata": {},
   "source": [
    "Multi-process using `EOExecutor`"
   ]
  },
  {
   "cell_type": "code",
   "execution_count": 15,
   "metadata": {
    "scrolled": false
   },
   "outputs": [],
   "source": [
    "executor = EOExecutor(workflow, exec_args, save_logs=True)"
   ]
  },
  {
   "cell_type": "code",
   "execution_count": 16,
   "metadata": {},
   "outputs": [
    {
     "data": {
      "application/vnd.jupyter.widget-view+json": {
       "model_id": "e060fd82ec924603a3b5538cb4acb8d0",
       "version_major": 2,
       "version_minor": 0
      },
      "text/plain": [
       "HBox(children=(FloatProgress(value=0.0, max=403.0), HTML(value='')))"
      ]
     },
     "metadata": {},
     "output_type": "display_data"
    },
    {
     "name": "stdout",
     "output_type": "stream",
     "text": [
      "\n"
     ]
    }
   ],
   "source": [
    "executor.run(workers=20)"
   ]
  },
  {
   "cell_type": "code",
   "execution_count": 17,
   "metadata": {},
   "outputs": [],
   "source": [
    "executor.make_report()"
   ]
  }
 ],
 "metadata": {
  "kernelspec": {
   "display_name": "Python 3",
   "language": "python",
   "name": "python3"
  },
  "language_info": {
   "codemirror_mode": {
    "name": "ipython",
    "version": 3
   },
   "file_extension": ".py",
   "mimetype": "text/x-python",
   "name": "python",
   "nbconvert_exporter": "python",
   "pygments_lexer": "ipython3",
   "version": "3.6.9"
  }
 },
 "nbformat": 4,
 "nbformat_minor": 2
}