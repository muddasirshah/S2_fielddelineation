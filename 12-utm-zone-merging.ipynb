{
 "cells": [
  {
   "cell_type": "markdown",
   "metadata": {},
   "source": [
    "## Merge two UTM zones\n",
    "\n",
    "```\n",
    "#\n",
    "# Copyright (c) Sinergise, 2019 -- 2021.\n",
    "#\n",
    "# This file belongs to subproject \"field-delineation\" of project NIVA (www.niva4cap.eu).\n",
    "# All rights reserved.\n",
    "#\n",
    "# This source code is licensed under the MIT license found in the LICENSE\n",
    "# file in the root directory of this source tree.\n",
    "#\n",
    "```"
   ]
  },
  {
   "cell_type": "markdown",
   "metadata": {},
   "source": [
    "This notebook implements the methods needed to merge two UTM zones into a single output geopackage.\n",
    "\n",
    "The procedure outline is:\n",
    "* define geometries for two UTM zones and their overlap\n",
    "* load the two single-UTM-zone vector predictions\n",
    "* split them into parts: non-overlapping (completely within UTM zone) and overlapping\n",
    "* merge the overlaps by:\n",
    "  * transform them to single CRS (WGS84)\n",
    "  * spatial join of the overlapping geodataframes from the two zones\n",
    "  * finding geometries that do not overlap (and keeping them)\n",
    "  * unary_union-ize the polygons that intersect and merge them to the geometries from previous step\n",
    "* transform everything to resulting (common) CRS\n",
    "* clean up the results (remove geometries with area larger than X * largest GSAA polygon from 2020\n",
    "* simplify geometries"
   ]
  },
  {
   "cell_type": "code",
   "execution_count": 1,
   "metadata": {},
   "outputs": [],
   "source": [
    "%load_ext autoreload\n",
    "%autoreload 2"
   ]
  },
  {
   "cell_type": "code",
   "execution_count": 2,
   "metadata": {},
   "outputs": [],
   "source": [
    "from pathlib import Path\n",
    "\n",
    "import geopandas as gpd\n",
    "import matplotlib.pyplot as plt\n",
    "from shapely.ops import unary_union\n",
    "\n",
    "from fd.vectorisation import MergeUTMsConfig, utm_zone_merging"
   ]
  },
  {
   "cell_type": "markdown",
   "metadata": {},
   "source": [
    "### The two UTM zones and their overlap"
   ]
  },
  {
   "cell_type": "code",
   "execution_count": 3,
   "metadata": {},
   "outputs": [
    {
     "data": {
      "text/html": [
       "<div>\n",
       "<style scoped>\n",
       "    .dataframe tbody tr th:only-of-type {\n",
       "        vertical-align: middle;\n",
       "    }\n",
       "\n",
       "    .dataframe tbody tr th {\n",
       "        vertical-align: top;\n",
       "    }\n",
       "\n",
       "    .dataframe thead th {\n",
       "        text-align: right;\n",
       "    }\n",
       "</style>\n",
       "<table border=\"1\" class=\"dataframe\">\n",
       "  <thead>\n",
       "    <tr style=\"text-align: right;\">\n",
       "      <th></th>\n",
       "      <th>id</th>\n",
       "      <th>name</th>\n",
       "      <th>geometry</th>\n",
       "    </tr>\n",
       "  </thead>\n",
       "  <tbody>\n",
       "    <tr>\n",
       "      <th>0</th>\n",
       "      <td>2302137</td>\n",
       "      <td>30TVM_2_5</td>\n",
       "      <td>POLYGON ((-3.96458 41.90790, -3.96594 41.99795...</td>\n",
       "    </tr>\n",
       "    <tr>\n",
       "      <th>1</th>\n",
       "      <td>2301391</td>\n",
       "      <td>30TUN_7_8</td>\n",
       "      <td>POLYGON ((-4.58294 42.53146, -4.58522 42.62148...</td>\n",
       "    </tr>\n",
       "    <tr>\n",
       "      <th>2</th>\n",
       "      <td>2301392</td>\n",
       "      <td>30TUN_7_9</td>\n",
       "      <td>POLYGON ((-4.58067 42.44143, -4.58294 42.53146...</td>\n",
       "    </tr>\n",
       "    <tr>\n",
       "      <th>3</th>\n",
       "      <td>2301398</td>\n",
       "      <td>30TUN_8_5</td>\n",
       "      <td>POLYGON ((-4.46755 42.80315, -4.46969 42.89318...</td>\n",
       "    </tr>\n",
       "    <tr>\n",
       "      <th>4</th>\n",
       "      <td>2301399</td>\n",
       "      <td>30TUN_8_6</td>\n",
       "      <td>POLYGON ((-4.46543 42.71313, -4.46755 42.80315...</td>\n",
       "    </tr>\n",
       "  </tbody>\n",
       "</table>\n",
       "</div>"
      ],
      "text/plain": [
       "        id       name                                           geometry\n",
       "0  2302137  30TVM_2_5  POLYGON ((-3.96458 41.90790, -3.96594 41.99795...\n",
       "1  2301391  30TUN_7_8  POLYGON ((-4.58294 42.53146, -4.58522 42.62148...\n",
       "2  2301392  30TUN_7_9  POLYGON ((-4.58067 42.44143, -4.58294 42.53146...\n",
       "3  2301398  30TUN_8_5  POLYGON ((-4.46755 42.80315, -4.46969 42.89318...\n",
       "4  2301399  30TUN_8_6  POLYGON ((-4.46543 42.71313, -4.46755 42.80315..."
      ]
     },
     "execution_count": 3,
     "metadata": {},
     "output_type": "execute_result"
    }
   ],
   "source": [
    "INPUT_DATA_DIR = Path('../../input-data/')\n",
    "\n",
    "grid_definition = gpd.read_file(INPUT_DATA_DIR/'cyl-grid-definition.gpkg')\n",
    "grid_definition.head()"
   ]
  },
  {
   "cell_type": "code",
   "execution_count": 4,
   "metadata": {},
   "outputs": [
    {
     "data": {
      "text/html": [
       "<div>\n",
       "<style scoped>\n",
       "    .dataframe tbody tr th:only-of-type {\n",
       "        vertical-align: middle;\n",
       "    }\n",
       "\n",
       "    .dataframe tbody tr th {\n",
       "        vertical-align: top;\n",
       "    }\n",
       "\n",
       "    .dataframe thead th {\n",
       "        text-align: right;\n",
       "    }\n",
       "</style>\n",
       "<table border=\"1\" class=\"dataframe\">\n",
       "  <thead>\n",
       "    <tr style=\"text-align: right;\">\n",
       "      <th></th>\n",
       "      <th>id</th>\n",
       "      <th>name</th>\n",
       "      <th>geometry</th>\n",
       "      <th>crs</th>\n",
       "    </tr>\n",
       "  </thead>\n",
       "  <tbody>\n",
       "    <tr>\n",
       "      <th>0</th>\n",
       "      <td>2302137</td>\n",
       "      <td>30TVM_2_5</td>\n",
       "      <td>POLYGON ((-3.96458 41.90790, -3.96594 41.99795...</td>\n",
       "      <td>32630</td>\n",
       "    </tr>\n",
       "    <tr>\n",
       "      <th>1</th>\n",
       "      <td>2301391</td>\n",
       "      <td>30TUN_7_8</td>\n",
       "      <td>POLYGON ((-4.58294 42.53146, -4.58522 42.62148...</td>\n",
       "      <td>32630</td>\n",
       "    </tr>\n",
       "    <tr>\n",
       "      <th>2</th>\n",
       "      <td>2301392</td>\n",
       "      <td>30TUN_7_9</td>\n",
       "      <td>POLYGON ((-4.58067 42.44143, -4.58294 42.53146...</td>\n",
       "      <td>32630</td>\n",
       "    </tr>\n",
       "    <tr>\n",
       "      <th>3</th>\n",
       "      <td>2301398</td>\n",
       "      <td>30TUN_8_5</td>\n",
       "      <td>POLYGON ((-4.46755 42.80315, -4.46969 42.89318...</td>\n",
       "      <td>32630</td>\n",
       "    </tr>\n",
       "    <tr>\n",
       "      <th>4</th>\n",
       "      <td>2301399</td>\n",
       "      <td>30TUN_8_6</td>\n",
       "      <td>POLYGON ((-4.46543 42.71313, -4.46755 42.80315...</td>\n",
       "      <td>32630</td>\n",
       "    </tr>\n",
       "  </tbody>\n",
       "</table>\n",
       "</div>"
      ],
      "text/plain": [
       "        id       name                                           geometry  \\\n",
       "0  2302137  30TVM_2_5  POLYGON ((-3.96458 41.90790, -3.96594 41.99795...   \n",
       "1  2301391  30TUN_7_8  POLYGON ((-4.58294 42.53146, -4.58522 42.62148...   \n",
       "2  2301392  30TUN_7_9  POLYGON ((-4.58067 42.44143, -4.58294 42.53146...   \n",
       "3  2301398  30TUN_8_5  POLYGON ((-4.46755 42.80315, -4.46969 42.89318...   \n",
       "4  2301399  30TUN_8_6  POLYGON ((-4.46543 42.71313, -4.46755 42.80315...   \n",
       "\n",
       "     crs  \n",
       "0  32630  \n",
       "1  32630  \n",
       "2  32630  \n",
       "3  32630  \n",
       "4  32630  "
      ]
     },
     "execution_count": 4,
     "metadata": {},
     "output_type": "execute_result"
    }
   ],
   "source": [
    "grid_definition['crs'] = grid_definition['name'].apply(lambda name: f'326{name[:2]}')\n",
    "grid_definition.head()"
   ]
  },
  {
   "cell_type": "code",
   "execution_count": 5,
   "metadata": {},
   "outputs": [
    {
     "data": {
      "text/plain": [
       "['32629', '32630']"
      ]
     },
     "execution_count": 5,
     "metadata": {},
     "output_type": "execute_result"
    }
   ],
   "source": [
    "crs_names = sorted(grid_definition['crs'].unique())\n",
    "crs_names"
   ]
  },
  {
   "cell_type": "code",
   "execution_count": 6,
   "metadata": {},
   "outputs": [],
   "source": [
    "utm_geoms = [grid_definition[grid_definition['crs']==crs_name].geometry.unary_union \n",
    "             for crs_name in crs_names]"
   ]
  },
  {
   "cell_type": "code",
   "execution_count": 7,
   "metadata": {},
   "outputs": [],
   "source": [
    "overlap = utm_geoms[0].intersection(utm_geoms[1]).buffer(-0.0001)"
   ]
  },
  {
   "cell_type": "code",
   "execution_count": 8,
   "metadata": {},
   "outputs": [],
   "source": [
    "tiled_overlap = grid_definition[grid_definition.intersects(overlap)].unary_union.buffer(-0.0001)"
   ]
  },
  {
   "cell_type": "code",
   "execution_count": 9,
   "metadata": {},
   "outputs": [
    {
     "name": "stderr",
     "output_type": "stream",
     "text": [
      "/home/ubuntu/anaconda3/envs/tensorflow2_p36/lib/python3.6/site-packages/ipykernel_launcher.py:1: UserWarning: Geometry is in a geographic CRS. Results from 'buffer' are likely incorrect. Use 'GeoSeries.to_crs()' to re-project geometries to a projected CRS before this operation.\n",
      "\n",
      "  \"\"\"Entry point for launching an IPython kernel.\n"
     ]
    }
   ],
   "source": [
    "zones = gpd.GeoDataFrame(geometry=[g for g in grid_definition[~grid_definition.intersects(tiled_overlap)].buffer(0.00001).unary_union],\n",
    "                         crs=grid_definition.crs)\n",
    "zones['crs'] = zones.geometry.apply(lambda g: grid_definition[grid_definition.intersects(g)]['crs'].unique()[0])"
   ]
  },
  {
   "cell_type": "code",
   "execution_count": 10,
   "metadata": {},
   "outputs": [],
   "source": [
    "# a dataframe holding the overlap geometry\n",
    "# useful because it is much simpler to transform between CRSs \n",
    "\n",
    "overlap_df = gpd.GeoDataFrame(geometry=[tiled_overlap], crs=grid_definition.crs)"
   ]
  },
  {
   "cell_type": "code",
   "execution_count": 11,
   "metadata": {},
   "outputs": [
    {
     "data": {
      "text/plain": [
       "<matplotlib.axes._subplots.AxesSubplot at 0x7fc4769e3ba8>"
      ]
     },
     "execution_count": 11,
     "metadata": {},
     "output_type": "execute_result"
    },
    {
     "data": {
      "image/png": "[encoded data removed]",
      "text/plain": [
       "<Figure size 1080x720 with 1 Axes>"
      ]
     },
     "metadata": {},
     "output_type": "display_data"
    }
   ],
   "source": [
    "fig, ax = plt.subplots(figsize=(15,10))\n",
    "zones.plot('crs', ax=ax)\n",
    "overlap_df.boundary.plot(ax=ax, color='r')"
   ]
  },
  {
   "cell_type": "code",
   "execution_count": 12,
   "metadata": {},
   "outputs": [],
   "source": [
    "MAX_GSAA_AREA = 19824325 # m2, derived from reference data\n",
    "\n",
    "merging_config = MergeUTMsConfig(\n",
    "    bucket_name='bucket-name',\n",
    "    aws_access_key_id='',\n",
    "    aws_secret_access_key='',\n",
    "    aws_region='eu-central-1',\n",
    "    time_intervals=['APRIL'],\n",
    "    utms=crs_names,\n",
    "    contours_dir='/home/ubuntu/cyl-contours', # where partial vectors are stored\n",
    "    resulting_crs='epsg:2062', # CRS of resulting geometries\n",
    "    max_area=1.3*MAX_GSAA_AREA, # Specify max area in m2 of parcels to keep\n",
    "    simplify_tolerance=2.5, # This is in teh resulting CRS, careful about unit of measure\n",
    "    n_workers=20\n",
    ")"
   ]
  },
  {
   "cell_type": "code",
   "execution_count": 13,
   "metadata": {},
   "outputs": [],
   "source": [
    "import logging\n",
    "import sys\n",
    "\n",
    "logging.basicConfig(format='%(asctime)s | %(levelname)s : %(message)s',\n",
    "                     level=logging.INFO, stream=sys.stdout)"
   ]
  },
  {
   "cell_type": "markdown",
   "metadata": {},
   "source": [
    "Depending on the number of polygons in the overlap area, and on their size, this step can take quite a long time (appr 4 hours per time interval)."
   ]
  },
  {
   "cell_type": "code",
   "execution_count": 14,
   "metadata": {},
   "outputs": [
    {
     "name": "stdout",
     "output_type": "stream",
     "text": [
      "2021-01-10 08:20:51,743 | INFO : merging utms for APRIL ...\n",
      "2021-01-10 08:23:24,857 | INFO : \tfilter vectors by area ...\n",
      "2021-01-10 08:23:26,301 | INFO : Note: NumExpr detected 36 cores but \"NUMEXPR_MAX_THREADS\" not set, so enforcing safe limit of 8.\n",
      "2021-01-10 08:23:26,302 | INFO : NumExpr defaulting to 8 threads.\n",
      "2021-01-10 08:23:36,612 | INFO : \tsplitting away non-overlapping zones ...\n",
      "2021-01-10 08:34:01,363 | INFO : \tfinding overlapping geometries with sjoin ...\n",
      "2021-01-10 08:35:45,188 | INFO : \trunning union of 33532 overlapping geometries ...\n"
     ]
    },
    {
     "name": "stderr",
     "output_type": "stream",
     "text": [
      "/home/ubuntu/field-delineation/fd/vectorisation.py:487: UserWarning: Geometry is in a geographic CRS. Results from 'area' are likely incorrect. Use 'GeoSeries.to_crs()' to re-project geometries to a projected CRS before this operation.\n",
      "\n",
      "  overlaps = overlaps[overlaps.geometry.area>0]\n"
     ]
    },
    {
     "name": "stdout",
     "output_type": "stream",
     "text": [
      "2021-01-10 08:37:38,955 | INFO : \tcreate dataframe of overlaps ...\n",
      "2021-01-10 13:34:26,978 | INFO : \tmerging results ...\n",
      "2021-01-10 13:46:18,558 | INFO : \tsimplifying geometries ...\n",
      "2021-01-10 14:44:38,843 | INFO : \twriting output ...\n"
     ]
    }
   ],
   "source": [
    "utm_zone_merging(merging_config, overlap_df, zones, parallel=False)"
   ]
  }
 ],
 "metadata": {
  "kernelspec": {
   "display_name": "Python 3",
   "language": "python",
   "name": "python3"
  },
  "language_info": {
   "codemirror_mode": {
    "name": "ipython",
    "version": 3
   },
   "file_extension": ".py",
   "mimetype": "text/x-python",
   "name": "python",
   "nbconvert_exporter": "python",
   "pygments_lexer": "ipython3",
   "version": "3.6.9"
  }
 },
 "nbformat": 4,
 "nbformat_minor": 4
}